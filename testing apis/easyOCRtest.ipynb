{
 "cells": [
  {
   "cell_type": "code",
   "execution_count": 4,
   "metadata": {},
   "outputs": [
    {
     "name": "stdout",
     "output_type": "stream",
     "text": [
      "^C\n",
      "Note: you may need to restart the kernel to use updated packages.\n"
     ]
    }
   ],
   "source": [
    "pip install easyocr --user\n"
   ]
  },
  {
   "cell_type": "code",
   "execution_count": 5,
   "metadata": {},
   "outputs": [
    {
     "ename": "ModuleNotFoundError",
     "evalue": "No module named 'easyocr'",
     "output_type": "error",
     "traceback": [
      "\u001b[1;31m---------------------------------------------------------------------------\u001b[0m",
      "\u001b[1;31mModuleNotFoundError\u001b[0m                       Traceback (most recent call last)",
      "\u001b[1;32mc:\\Users\\sidra\\Downloads\\UoL\\UoL final project\\UoL Final project code\\testing apis\\easyOCRtest.ipynb Cell 2\u001b[0m in \u001b[0;36m1\n\u001b[1;32m----> <a href='vscode-notebook-cell:/c%3A/Users/sidra/Downloads/UoL/UoL%20final%20project/UoL%20Final%20project%20code/testing%20apis/easyOCRtest.ipynb#W1sZmlsZQ%3D%3D?line=0'>1</a>\u001b[0m \u001b[39mimport\u001b[39;00m \u001b[39measyocr\u001b[39;00m\n",
      "\u001b[1;31mModuleNotFoundError\u001b[0m: No module named 'easyocr'"
     ]
    },
    {
     "name": "stdout",
     "output_type": "stream",
     "text": [
      "Collecting easyocr\n",
      "  Using cached easyocr-1.7.0-py3-none-any.whl (2.9 MB)\n",
      "Collecting PyYAML\n",
      "  Using cached PyYAML-6.0-cp310-cp310-win_amd64.whl (151 kB)\n",
      "Collecting torchvision>=0.5\n",
      "  Using cached torchvision-0.15.2-cp310-cp310-win_amd64.whl (1.2 MB)\n",
      "Collecting Shapely\n",
      "  Using cached shapely-2.0.1-cp310-cp310-win_amd64.whl (1.4 MB)\n",
      "Collecting torch\n",
      "  Using cached torch-2.0.1-cp310-cp310-win_amd64.whl (172.3 MB)\n",
      "Collecting opencv-python-headless\n",
      "  Using cached opencv_python_headless-4.8.0.74-cp37-abi3-win_amd64.whl (38.0 MB)\n",
      "Requirement already satisfied: scipy in c:\\python310\\lib\\site-packages (from easyocr) (1.9.3)\n",
      "Collecting scikit-image\n",
      "  Using cached scikit_image-0.21.0-cp310-cp310-win_amd64.whl (22.8 MB)\n",
      "Requirement already satisfied: Pillow in c:\\python310\\lib\\site-packages (from easyocr) (9.3.0)\n",
      "Collecting python-bidi\n",
      "  Using cached python_bidi-0.4.2-py2.py3-none-any.whl (30 kB)\n",
      "Requirement already satisfied: numpy in c:\\python310\\lib\\site-packages (from easyocr) (1.23.3)\n",
      "Requirement already satisfied: pyclipper in c:\\python310\\lib\\site-packages (from easyocr) (1.3.0.post4)\n",
      "Requirement already satisfied: ninja in c:\\python310\\lib\\site-packages (from easyocr) (1.11.1)\n",
      "Requirement already satisfied: requests in c:\\python310\\lib\\site-packages (from torchvision>=0.5->easyocr) (2.28.1)\n",
      "Collecting networkx\n",
      "  Using cached networkx-3.1-py3-none-any.whl (2.1 MB)\n",
      "Collecting sympy\n",
      "  Using cached sympy-1.12-py3-none-any.whl (5.7 MB)\n",
      "Requirement already satisfied: jinja2 in c:\\python310\\lib\\site-packages (from torch->easyocr) (3.1.2)\n",
      "Requirement already satisfied: typing-extensions in c:\\python310\\lib\\site-packages (from torch->easyocr) (4.4.0)\n",
      "Requirement already satisfied: filelock in c:\\python310\\lib\\site-packages (from torch->easyocr) (3.8.0)\n",
      "Requirement already satisfied: six in c:\\users\\sidra\\appdata\\roaming\\python\\python310\\site-packages (from python-bidi->easyocr) (1.16.0)\n",
      "Requirement already satisfied: packaging>=21 in c:\\users\\sidra\\appdata\\roaming\\python\\python310\\site-packages (from scikit-image->easyocr) (21.3)\n",
      "Collecting imageio>=2.27\n",
      "  Using cached imageio-2.31.1-py3-none-any.whl (313 kB)\n",
      "Collecting lazy_loader>=0.2\n",
      "  Using cached lazy_loader-0.3-py3-none-any.whl (9.1 kB)\n",
      "Requirement already satisfied: tifffile>=2022.8.12 in c:\\python310\\lib\\site-packages (from scikit-image->easyocr) (2023.7.10)\n",
      "Collecting PyWavelets>=1.1.1\n",
      "  Using cached PyWavelets-1.4.1-cp310-cp310-win_amd64.whl (4.2 MB)\n",
      "Requirement already satisfied: pyparsing!=3.0.5,>=2.0.2 in c:\\users\\sidra\\appdata\\roaming\\python\\python310\\site-packages (from packaging>=21->scikit-image->easyocr) (3.0.9)\n",
      "Requirement already satisfied: MarkupSafe>=2.0 in c:\\python310\\lib\\site-packages (from jinja2->torch->easyocr) (2.1.1)\n",
      "Requirement already satisfied: urllib3<1.27,>=1.21.1 in c:\\python310\\lib\\site-packages (from requests->torchvision>=0.5->easyocr) (1.26.12)\n",
      "Requirement already satisfied: certifi>=2017.4.17 in c:\\python310\\lib\\site-packages (from requests->torchvision>=0.5->easyocr) (2022.6.15)\n",
      "Requirement already satisfied: charset-normalizer<3,>=2 in c:\\python310\\lib\\site-packages (from requests->torchvision>=0.5->easyocr) (2.1.1)\n",
      "Requirement already satisfied: idna<4,>=2.5 in c:\\python310\\lib\\site-packages (from requests->torchvision>=0.5->easyocr) (3.3)\n",
      "Requirement already satisfied: mpmath>=0.19 in c:\\python310\\lib\\site-packages (from sympy->torch->easyocr) (1.3.0)\n",
      "Installing collected packages: sympy, Shapely, PyYAML, PyWavelets, python-bidi, opencv-python-headless, networkx, lazy_loader, imageio, torch, scikit-image, torchvision, easyocr\n",
      "Successfully installed PyWavelets-1.4.1 PyYAML-6.0 Shapely-2.0.1 easyocr-1.7.0 imageio-2.31.1 lazy_loader-0.3 networkx-3.1 opencv-python-headless-4.8.0.74 python-bidi-0.4.2 scikit-image-0.21.0 sympy-1.12 torch-2.0.1 torchvision-0.15.2\n"
     ]
    },
    {
     "name": "stderr",
     "output_type": "stream",
     "text": [
      "WARNING: Ignoring invalid distribution -ytz (c:\\python310\\lib\\site-packages)\n",
      "WARNING: Ignoring invalid distribution -ip (c:\\python310\\lib\\site-packages)\n",
      "WARNING: Ignoring invalid distribution -ytz (c:\\python310\\lib\\site-packages)\n",
      "WARNING: Ignoring invalid distribution -ip (c:\\python310\\lib\\site-packages)\n",
      "WARNING: Ignoring invalid distribution -ytz (c:\\python310\\lib\\site-packages)\n",
      "WARNING: Ignoring invalid distribution -ip (c:\\python310\\lib\\site-packages)\n",
      "WARNING: Ignoring invalid distribution -ytz (c:\\python310\\lib\\site-packages)\n",
      "WARNING: Ignoring invalid distribution -ip (c:\\python310\\lib\\site-packages)\n",
      "\n",
      "[notice] A new release of pip is available: 23.0.1 -> 23.1.2\n",
      "[notice] To update, run: python.exe -m pip install --upgrade pip\n"
     ]
    }
   ],
   "source": [
    "import easyocr"
   ]
  },
  {
   "cell_type": "code",
   "execution_count": null,
   "metadata": {},
   "outputs": [],
   "source": []
  }
 ],
 "metadata": {
  "kernelspec": {
   "display_name": "Python 3",
   "language": "python",
   "name": "python3"
  },
  "language_info": {
   "codemirror_mode": {
    "name": "ipython",
    "version": 3
   },
   "file_extension": ".py",
   "mimetype": "text/x-python",
   "name": "python",
   "nbconvert_exporter": "python",
   "pygments_lexer": "ipython3",
   "version": "3.10.8"
  },
  "orig_nbformat": 4
 },
 "nbformat": 4,
 "nbformat_minor": 2
}
